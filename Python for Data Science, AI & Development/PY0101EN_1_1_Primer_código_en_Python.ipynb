{
  "cells": [
    {
      "cell_type": "markdown",
      "metadata": {
        "id": "d185c582-e662-4362-8b9d-aec2d9c45668"
      },
      "source": [
        "<p style=\"text-align:center\">\n",
        "    <a href=\"https://skills.network\" target=\"_blank\">\n",
        "    <img src=\"https://cf-courses-data.s3.us.cloud-object-storage.appdomain.cloud/assets/logos/SN_web_lightmode.png\" width=\"300\" alt=\"Skills Network Logo\">\n",
        "    </a>\n",
        "</p>\n",
        "\n",
        "\n",
        "# **Writing Your First Python Code**\n",
        "\n",
        "\n",
        "Traducido por Luisa Gomez\n",
        "    \n",
        "\n",
        "## Objetivo\n",
        "\n",
        "* Escribir un código básico en Python\n",
        "\n"
      ]
    },
    {
      "cell_type": "markdown",
      "metadata": {
        "id": "742f23b0-6ced-4f75-a0d7-580e23561492"
      },
      "source": [
        "## Tabla de contenidos\n",
        "* Escribe 'Hello' al mundo en Python\n",
        "    * ¿Qué versión de Python estamos usando?\n",
        "    * Escribir comentarios en Python\n",
        "    * Errores en Python\n",
        "    * ¿Python detecta tu error antes de ejecutar el código?\n",
        "    * Ejercicios\n",
        "\n",
        "   \n"
      ]
    },
    {
      "cell_type": "markdown",
      "metadata": {
        "id": "6b37482f-6569-4dd2-9233-be0a13265d1c"
      },
      "source": [
        "---\n",
        "# **Escribe 'Hello' al mundo en Python**\n"
      ]
    },
    {
      "cell_type": "markdown",
      "metadata": {
        "id": "0b328da0-9f69-4c28-bf02-4ae1a70abc91"
      },
      "source": [
        "Al aprender un nuevo lenguaje de programación, es habitual empezar con un ejemplo de **\"Hola mundo\"**. Tan simple como es, esta línea de código nos permitirá saber cómo imprimir una cadena (string) en el output y cómo ejecutar código dentro de las celdas de un notebook."
      ]
    },
    {
      "cell_type": "markdown",
      "metadata": {
        "id": "f33c4435-2756-43d1-a013-75e753007fff"
      },
      "source": [
        "<hr/>\n",
        "<div class=\"alert alert-success alertsuccess\" style=\"margin-top: 20px\">\n",
        "[Tip]: Para ejecutar el código de Python en la celda de código a continuación, haga clic en la celda para seleccionarla y presionar <kbd>Shift</kbd> + <kbd>Enter</kbd>.\n",
        "</div>\n",
        "<hr/>\n"
      ]
    },
    {
      "cell_type": "code",
      "metadata": {
        "colab": {
          "base_uri": "https://localhost:8080/"
        },
        "id": "4419c5dc-7fa5-4fd0-b725-b6b31d58f7b7",
        "outputId": "138d2bee-4929-48a6-c77d-7e09ccb23fbf"
      },
      "outputs": [
        {
          "output_type": "stream",
          "name": "stdout",
          "text": [
            "Hello, Python!\n"
          ]
        }
      ],
      "source": [
        "# Probemos el primer output en Python\n",
        "\n",
        "print('Hello, Python!')"
      ],
      "execution_count": 1
    },
    {
      "cell_type": "markdown",
      "metadata": {
        "id": "75c039bc-31b6-46ff-9f4f-59d40b41b9ec"
      },
      "source": [
        "<hr/>\n",
        "<div class=\"alert alert-success alertsuccess\" style=\"margin-top: 20px\">\n",
        "    [Tip:] <code>print()</code> es una función. Ejecutas el string <code>'Hello, Python!'</code> como argumento para indicarle a Python qué imprimir.\n",
        "</div>\n",
        "<hr/>\n"
      ]
    },
    {
      "cell_type": "markdown",
      "metadata": {
        "id": "9a4a0406-46c9-461d-9a82-9499352f1386"
      },
      "source": [
        "## **¿Qué versión de Python estamos usando?**\n"
      ]
    },
    {
      "cell_type": "markdown",
      "metadata": {
        "id": "bbb86c2d-1832-405b-ab50-b210d8c06430"
      },
      "source": [
        "Actualmente se utilizan dos versiones populares del lenguaje de programación Python: Python 2 y Python 3. La comunidad Python ha decidido migrar de Python 2 a Python 3, y muchas bibliotecas populares han anunciado que ya no serán compatibles con Python 2.\n",
        "\n",
        "\n",
        "Dado que Python 3 es el futuro, en este curso lo usaremos exclusivamente. ¿Cómo sabemos que nuestro cuaderno se ejecuta con un entorno de ejecución de Python 3? Podemos buscar \"Python 3\" en la esquina superior derecha de este cuaderno.\n",
        "\n",
        "\n",
        "También podemos preguntarle directamente a Python y obtener una respuesta detallada. Pruebe a ejecutar el siguiente código:"
      ]
    },
    {
      "cell_type": "code",
      "metadata": {
        "colab": {
          "base_uri": "https://localhost:8080/"
        },
        "id": "4b8d484a-699d-40c1-84a6-ce27185fc915",
        "outputId": "e11beccb-59b7-432c-f1c7-17c29a5e8463"
      },
      "outputs": [
        {
          "output_type": "stream",
          "name": "stdout",
          "text": [
            "3.11.13 (main, Jun  4 2025, 08:57:29) [GCC 11.4.0]\n"
          ]
        }
      ],
      "source": [
        "# Miremos la versión de Python\n",
        "\n",
        "import sys\n",
        "print(sys.version)"
      ],
      "execution_count": 2
    },
    {
      "cell_type": "markdown",
      "metadata": {
        "id": "20eb81c2-9127-47ad-ac87-5d5cf8a9c0e4"
      },
      "source": [
        "<hr/>\n",
        "<div class=\"alert alert-success alertsuccess\" style=\"margin-top: 20px\">\n",
        "    [Tip:] <code>sys</code> es un módulo integrado que contiene muchos parámetros y funciones específicos del sistema, incluida la versión de Python en uso. Antes de usarlo, debemos importarlo explícitamente <code>import</code>.\n",
        "</div>\n",
        "<hr/>\n"
      ]
    },
    {
      "cell_type": "markdown",
      "metadata": {
        "id": "0e4b1d4e-93c4-49c9-a642-e8114b5e7677"
      },
      "source": [
        "## **Escribir comentarios en Python**\n"
      ]
    },
    {
      "cell_type": "markdown",
      "metadata": {
        "id": "b9126598-7ef0-48b5-98cf-7744cea79006"
      },
      "source": [
        "Además de escribir código, ten en cuenta que siempre es buena idea añadir comentarios. Esto ayudará a otros a comprender tu objetivo (la razón por la que escribiste un fragmento de código). Esto no solo ayuda a que otros lo entiendan, sino que también puede servirte de recordatorio cuando lo revises semanas o meses después.\n",
        "\n",
        "\n",
        "Para escribir comentarios en Python, usa el símbolo **#** antes de escribirlos. **Al ejecutar el código, Python ignorará todo lo que esté después del símbolo # en una línea determinada**.\n",
        "\n",
        "\n"
      ]
    },
    {
      "cell_type": "code",
      "metadata": {
        "colab": {
          "base_uri": "https://localhost:8080/"
        },
        "id": "5e05f9a4-1464-4e89-8f6f-dc037e8cf62e",
        "outputId": "dc7d1ffc-3e67-43ff-eb4c-1c499f505070"
      },
      "outputs": [
        {
          "output_type": "stream",
          "name": "stdout",
          "text": [
            "Hello, Python!\n"
          ]
        }
      ],
      "source": [
        "# Escribamos un comentario\n",
        "\n",
        "print('Hello, Python!')  # Esta línea imprime un string\n",
        "# print('Hi')"
      ],
      "execution_count": 3
    },
    {
      "cell_type": "markdown",
      "metadata": {
        "id": "0ec95448-8868-488c-ac7e-8414f2b7aa65"
      },
      "source": [
        "Después de ejecutar la celda anterior, debe notar que **`Esta línea imprime un string`** que no apareció en el output, porque era un comentario.\n",
        "\n",
        "¡La segunda línea tampoco se ejecutó porque **`print('Hi')`**también fue precedida por el signo numeral (**#**)! Dado que este no es un comentario explicativo del programador, sino una línea de código real, podríamos decir que el programador comentó esa segunda línea de código.\n"
      ]
    },
    {
      "cell_type": "markdown",
      "metadata": {
        "id": "486d456e-a0b8-4087-9df4-d2301b1c559c"
      },
      "source": [
        "## **Errores en Python**\n"
      ]
    },
    {
      "cell_type": "markdown",
      "metadata": {
        "id": "5aca727a-3f7c-47af-b423-ef166f235558"
      },
      "source": [
        "Todos cometemos errores. Para muchos tipos de errores, Python le dirá que ha cometido un error al darle un mensaje de error. Es importante leer los mensajes de error detenidamente para comprender realmente dónde se cometió un error y cómo puedes corregirlo.\n",
        "\n",
        "Por ejemplo, si deletrea **print** como **frint**,Python mostrará un mensaje de error.\n"
      ]
    },
    {
      "cell_type": "code",
      "metadata": {
        "colab": {
          "base_uri": "https://localhost:8080/",
          "height": 176
        },
        "id": "0024f837-2b8a-4817-8299-511af4828cc1",
        "outputId": "8aaf7e31-06ac-46cc-cbd1-b1d112c30428"
      },
      "outputs": [
        {
          "output_type": "error",
          "ename": "NameError",
          "evalue": "name 'frint' is not defined",
          "traceback": [
            "\u001b[0;31m---------------------------------------------------------------------------\u001b[0m",
            "\u001b[0;31mNameError\u001b[0m                                 Traceback (most recent call last)",
            "\u001b[0;32m/tmp/ipython-input-4048355090.py\u001b[0m in \u001b[0;36m<cell line: 0>\u001b[0;34m()\u001b[0m\n\u001b[1;32m      1\u001b[0m \u001b[0;31m# Corremos un string como mensaje de error\u001b[0m\u001b[0;34m\u001b[0m\u001b[0;34m\u001b[0m\u001b[0m\n\u001b[1;32m      2\u001b[0m \u001b[0;34m\u001b[0m\u001b[0m\n\u001b[0;32m----> 3\u001b[0;31m \u001b[0mfrint\u001b[0m\u001b[0;34m(\u001b[0m\u001b[0;34m\"Hello, Python!\"\u001b[0m\u001b[0;34m)\u001b[0m\u001b[0;34m\u001b[0m\u001b[0;34m\u001b[0m\u001b[0m\n\u001b[0m",
            "\u001b[0;31mNameError\u001b[0m: name 'frint' is not defined"
          ]
        }
      ],
      "source": [
        "# Ejecutamos un string con un mensaje de error\n",
        "\n",
        "frint(\"Hello, Python!\")"
      ],
      "execution_count": 4
    },
    {
      "cell_type": "markdown",
      "metadata": {
        "id": "55f435b2-3cd6-48ea-bb6e-1b06c0f1964a"
      },
      "source": [
        "El mensaje de error te dice:\n",
        "\n",
        "* dónde ocurrió el error, y\n",
        "* qué tipo de error fue (NameError)\n",
        "\n",
        "Aquí, Python intentó ejecutar la función **frint**, pero no pudo determinar qué es **frint** ya que no es una función integrada y tampoco la hemos definido previamente.\n",
        "\n",
        "Notará que si cometemos un tipo diferente de error, al olvidar cerrar el string, obtendremos un error diferente (i.e., a SyntaxError).\n"
      ]
    },
    {
      "cell_type": "code",
      "metadata": {
        "colab": {
          "base_uri": "https://localhost:8080/",
          "height": 106
        },
        "id": "fd79a176-f3e3-4584-bd91-fc99ceba96c6",
        "outputId": "9b9ef3e4-a5e6-4f29-988e-1aa4943734b6"
      },
      "outputs": [
        {
          "output_type": "error",
          "ename": "SyntaxError",
          "evalue": "unterminated string literal (detected at line 3) (ipython-input-2608763516.py, line 3)",
          "traceback": [
            "\u001b[0;36m  File \u001b[0;32m\"/tmp/ipython-input-2608763516.py\"\u001b[0;36m, line \u001b[0;32m3\u001b[0m\n\u001b[0;31m    print(\"Hello, Python!)\u001b[0m\n\u001b[0m          ^\u001b[0m\n\u001b[0;31mSyntaxError\u001b[0m\u001b[0;31m:\u001b[0m unterminated string literal (detected at line 3)\n"
          ]
        }
      ],
      "source": [
        "# Intenta ver el mensaje de error incorporado\n",
        "\n",
        "print(\"Hello, Python!)"
      ],
      "execution_count": 5
    },
    {
      "cell_type": "markdown",
      "metadata": {
        "id": "aa840668-5e61-4880-a962-0cc6bc65e5c7"
      },
      "source": [
        "## **¿Python detecta tu error antes de ejecutar el código?**\n"
      ]
    },
    {
      "cell_type": "markdown",
      "metadata": {
        "id": "4d4e8c04-8e51-4ba1-bcd1-d37de3f1fbb3"
      },
      "source": [
        "Python es lo que se denomina un `lenguaje interpretado`. Los lenguajes compilados examinan el programa completo en tiempo de compilación y pueden advertir sobre toda una clase de errores antes de su ejecución. En cambio, Python interpreta el script línea por línea a medida que lo ejecuta. Python detendrá la ejecución del programa completo si encuentra un error (a menos que el programador lo espere y lo gestione, un tema más avanzado que abordaremos más adelante en este curso).\n"
      ]
    },
    {
      "cell_type": "markdown",
      "metadata": {
        "id": "e47a9f67-97ef-448c-86d7-dc9fc55aabfb"
      },
      "source": [
        "Intente ejecutar el código en la celda a continuación y vea qué sucede:\n"
      ]
    },
    {
      "cell_type": "code",
      "metadata": {
        "colab": {
          "base_uri": "https://localhost:8080/",
          "height": 211
        },
        "id": "af0f03fa-8301-4d8f-b3ee-575a9f900f45",
        "outputId": "ab34a209-da00-4821-e694-c181414c330a"
      },
      "outputs": [
        {
          "output_type": "stream",
          "name": "stdout",
          "text": [
            "Esto se imprimirá\n"
          ]
        },
        {
          "output_type": "error",
          "ename": "NameError",
          "evalue": "name 'frint' is not defined",
          "traceback": [
            "\u001b[0;31m---------------------------------------------------------------------------\u001b[0m",
            "\u001b[0;31mNameError\u001b[0m                                 Traceback (most recent call last)",
            "\u001b[0;32m/tmp/ipython-input-1659441308.py\u001b[0m in \u001b[0;36m<cell line: 0>\u001b[0;34m()\u001b[0m\n\u001b[1;32m      2\u001b[0m \u001b[0;34m\u001b[0m\u001b[0m\n\u001b[1;32m      3\u001b[0m \u001b[0mprint\u001b[0m\u001b[0;34m(\u001b[0m\u001b[0;34m\"Esto se imprimirá\"\u001b[0m\u001b[0;34m)\u001b[0m\u001b[0;34m\u001b[0m\u001b[0;34m\u001b[0m\u001b[0m\n\u001b[0;32m----> 4\u001b[0;31m \u001b[0mfrint\u001b[0m\u001b[0;34m(\u001b[0m\u001b[0;34m\"Esto provocará un error.\"\u001b[0m\u001b[0;34m)\u001b[0m\u001b[0;34m\u001b[0m\u001b[0;34m\u001b[0m\u001b[0m\n\u001b[0m\u001b[1;32m      5\u001b[0m \u001b[0mprint\u001b[0m\u001b[0;34m(\u001b[0m\u001b[0;34m\"Esto NO se imprimirá\"\u001b[0m\u001b[0;34m)\u001b[0m\u001b[0;34m\u001b[0m\u001b[0;34m\u001b[0m\u001b[0m\n",
            "\u001b[0;31mNameError\u001b[0m: name 'frint' is not defined"
          ]
        }
      ],
      "source": [
        "# Imprime las cadenas (strings) y el error para ver el orden de ejecución\n",
        "\n",
        "print(\"Esto se imprimirá\")\n",
        "frint(\"Esto provocará un error.\")\n",
        "print(\"Esto NO se imprimirá\")"
      ],
      "execution_count": 6
    },
    {
      "cell_type": "markdown",
      "metadata": {
        "id": "c1f41ea4-e8aa-432d-973b-6f22ea429943"
      },
      "source": [
        "## **Ejercicios**\n"
      ]
    },
    {
      "cell_type": "markdown",
      "metadata": {
        "id": "cb8e7b0e-4d38-497b-a2c0-a463eacd9523"
      },
      "source": [
        "Generaciones de programadores han comenzado sus carreras de programación simplemente escribiendo \"¡Hola, mundo!\". Seguirás sus pasos.\n",
        "\n",
        "En la celda de código a continuación, usa la función **`print()`** para escribir la frase: **\"¡Hola, mundo!\"**.\n"
      ]
    },
    {
      "cell_type": "code",
      "metadata": {
        "colab": {
          "base_uri": "https://localhost:8080/"
        },
        "id": "69f24712-46c9-49fa-8080-f19c959fca48",
        "outputId": "afc4f46f-4934-4038-956c-b7db5298ab57"
      },
      "outputs": [
        {
          "output_type": "stream",
          "name": "stdout",
          "text": [
            "Hola, mundo!\n"
          ]
        }
      ],
      "source": [
        "# Escribe tu código a continuación. No olvides presionar Shift+Enter para ejecutar la celda.\n",
        "\n",
        "print(\"Hola, mundo!\")"
      ],
      "execution_count": 7
    },
    {
      "cell_type": "markdown",
      "metadata": {
        "id": "b8022e1f-937c-4230-973a-0e290caefbea"
      },
      "source": [
        "Ahora, mejoremos tu código con un comentario. En la celda de código a continuación, imprime la frase **\"¡Hola mundo!\"** y coméntala con la frase **Imprime el tradicional \"Hola mundo\"**, todo en una sola línea de código.\n",
        "\n",
        "\n"
      ]
    },
    {
      "cell_type": "code",
      "metadata": {
        "colab": {
          "base_uri": "https://localhost:8080/"
        },
        "id": "6912919e-ea26-4388-a851-86473336cb85",
        "outputId": "4e21c61c-3282-4187-b3b4-92aa7fb23f35"
      },
      "outputs": [
        {
          "output_type": "stream",
          "name": "stdout",
          "text": [
            "¡Hola, mundo!\n"
          ]
        }
      ],
      "source": [
        "# Escribe tu código a continuación. No olvides presionar Shift+Enter para ejecutar la celda.\n",
        "\n",
        "print(\"¡Hola, mundo!\") # Imprime el tradicional hola mundo"
      ],
      "execution_count": 8
    },
    {
      "cell_type": "markdown",
      "source": [
        "¿Cuál es el valor de **x** donde **`x = 3 + 2 * 2`**?"
      ],
      "metadata": {
        "id": "9Icdh0S7POtb"
      }
    },
    {
      "cell_type": "code",
      "source": [
        "# Escribe tu código a continuación. No olvides presionar Shift+Enter para ejecutar la celda.\n",
        "\n",
        "x = 3 + 2 * 2\n",
        "\n",
        "print(x)"
      ],
      "metadata": {
        "colab": {
          "base_uri": "https://localhost:8080/"
        },
        "id": "_dlV4Kt9PPXq",
        "outputId": "01f834b2-fbd6-4339-fdde-70546b8d35a2"
      },
      "execution_count": 9,
      "outputs": [
        {
          "output_type": "stream",
          "name": "stdout",
          "text": [
            "7\n"
          ]
        }
      ]
    },
    {
      "cell_type": "markdown",
      "source": [
        "¿Cuál es el valor de **y** donde **`y = (3 + 2) * 2`**?"
      ],
      "metadata": {
        "id": "ykEtFK-kPgZm"
      }
    },
    {
      "cell_type": "code",
      "source": [
        "# Escribe tu código a continuación. No olvides presionar Shift+Enter para ejecutar la celda.\n",
        "\n",
        "y = (3 + 2) * 2\n",
        "\n",
        "print(y)"
      ],
      "metadata": {
        "colab": {
          "base_uri": "https://localhost:8080/"
        },
        "id": "MOILi_ylPdXI",
        "outputId": "4c41239b-855b-4eaf-ce91-1e4a2da5c16d"
      },
      "execution_count": 10,
      "outputs": [
        {
          "output_type": "stream",
          "name": "stdout",
          "text": [
            "10\n"
          ]
        }
      ]
    },
    {
      "cell_type": "markdown",
      "metadata": {
        "id": "3d645591-6f9c-4ab3-9293-1c3b2b6932c0"
      },
      "source": [
        "¿Cuál es el valor de **z** donde **`z = x + y`**?\n"
      ]
    },
    {
      "cell_type": "code",
      "metadata": {
        "colab": {
          "base_uri": "https://localhost:8080/"
        },
        "id": "968904a8-de3f-4e48-b84b-7827ad4b05f2",
        "outputId": "727de94b-aa59-4ceb-cc13-364f3e27c483"
      },
      "outputs": [
        {
          "output_type": "stream",
          "name": "stdout",
          "text": [
            "17\n"
          ]
        }
      ],
      "source": [
        "# Escribe tu código a continuación. No olvides presionar Shift+Enter para ejecutar la celda.\n",
        "z = x + y\n",
        "\n",
        "print(z)"
      ],
      "execution_count": 11
    },
    {
      "cell_type": "markdown",
      "metadata": {
        "id": "5ab4987b-eedb-4be6-905c-3a085467e12a"
      },
      "source": [
        "## Author\n",
        "\n",
        "<a href=\"https://www.linkedin.com/in/joseph-s-50398b136/\" target=\"_blank\">Joseph Santarcangelo</a>\n",
        "\n",
        "\n",
        "## Other contributors\n",
        "\n",
        "<a href=\"www.linkedin.com/in/jiahui-mavis-zhou-a4537814a\">Mavis Zhou</a>\n",
        "\n",
        "\n",
        "\n",
        "## <h3 align=\"center\"> © IBM Corporation 2023. All rights reserved. <h3/>\n"
      ]
    },
    {
      "cell_type": "markdown",
      "metadata": {
        "id": "d5c69c56-82ef-455a-9b6a-843c445595f5"
      },
      "source": [
        "```toggle## Change Log\n",
        "```\n",
        "\n",
        "\n",
        "```toggle|  Date (YYYY-MM-DD) |  Version | Changed By  |  Change Description |\n",
        "```\n",
        "```toggle|---|---|---|---|\n",
        "```\n",
        "```toggle| 2023-10-30 | 2.2 | Abhishek Gagneja| Updated instructions |\n",
        "```\n",
        "```toggle| 2022-01-10  | 2.1  | Malika  | Removed the readme for GitShare|\n",
        "```\n",
        "```toggle| 2020-08-26  | 2.0  | Lavanya | Moved lab to course repo in GitLab |\n",
        "```\n"
      ]
    }
  ],
  "metadata": {
    "kernelspec": {
      "display_name": "Python 3 (ipykernel)",
      "language": "python",
      "name": "python3"
    },
    "language_info": {
      "codemirror_mode": {
        "name": "ipython",
        "version": 3
      },
      "file_extension": ".py",
      "mimetype": "text/x-python",
      "name": "python",
      "nbconvert_exporter": "python",
      "pygments_lexer": "ipython3",
      "version": "3.11.7"
    },
    "prev_pub_hash": "205af83a85a70edf4e318f775fabe17843ea41df74f979adab2ff8cf7104f876",
    "colab": {
      "provenance": []
    }
  },
  "nbformat": 4,
  "nbformat_minor": 0
}